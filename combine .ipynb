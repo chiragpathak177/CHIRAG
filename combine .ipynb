{
 "cells": [
  {
   "cell_type": "code",
   "execution_count": 1,
   "id": "eb0e12ea",
   "metadata": {},
   "outputs": [],
   "source": [
    "import cv2"
   ]
  },
  {
   "cell_type": "code",
   "execution_count": 2,
   "id": "ca3eb5b8",
   "metadata": {},
   "outputs": [],
   "source": [
    "tom = cv2.imread('tom1.png')\n",
    "jerry = cv2.imread('Jerry_901.png')\n"
   ]
  },
  {
   "cell_type": "code",
   "execution_count": 3,
   "id": "ff13dba3",
   "metadata": {},
   "outputs": [],
   "source": [
    "cv2.imshow('jerry',jerry)\n",
    "cv2.waitKey()\n",
    "cv2.destroyAllWindows()\n",
    "cv2.imshow('tom',tom)\n",
    "cv2.waitKey()\n",
    "cv2.destroyAllWindows()"
   ]
  },
  {
   "cell_type": "code",
   "execution_count": 7,
   "id": "57cd78e3",
   "metadata": {},
   "outputs": [],
   "source": [
    "combine = cv2.vconcat([jerry,tom])"
   ]
  },
  {
   "cell_type": "code",
   "execution_count": 6,
   "id": "e59cdc52",
   "metadata": {},
   "outputs": [],
   "source": [
    "cv2.imshow('cimage',combine)\n",
    "cv2.waitKey()\n",
    "cv2.destroyAllWindows()"
   ]
  },
  {
   "cell_type": "code",
   "execution_count": null,
   "id": "23f0053e",
   "metadata": {},
   "outputs": [],
   "source": []
  }
 ],
 "metadata": {
  "kernelspec": {
   "display_name": "Python 3",
   "language": "python",
   "name": "python3"
  },
  "language_info": {
   "codemirror_mode": {
    "name": "ipython",
    "version": 3
   },
   "file_extension": ".py",
   "mimetype": "text/x-python",
   "name": "python",
   "nbconvert_exporter": "python",
   "pygments_lexer": "ipython3",
   "version": "3.8.8"
  }
 },
 "nbformat": 4,
 "nbformat_minor": 5
}
